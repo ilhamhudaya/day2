{
 "cells": [
  {
   "cell_type": "markdown",
   "metadata": {},
   "source": [
    "## TASK1"
   ]
  },
  {
   "cell_type": "code",
   "execution_count": null,
   "metadata": {},
   "outputs": [],
   "source": [
    "\n",
    "id = [\n",
    "    'B818', 'A461', 'A092', 'A082', 'B341', 'A005', 'A092', 'A461','B219', 'B904', 'A901', 'A083', 'B904', 'A092', 'B341', 'B821',\n",
    "    'B341', 'B821', 'B904', 'B818', 'A901', 'A083', 'B818', 'A082','B219', 'B219', 'A083', 'A901', 'A082', 'B341', 'B341', 'A083',\n",
    "    'A082', 'B219', 'B439', 'A461', 'A005', 'A901', 'B341', 'A082','A083', 'A461', 'A083', 'A901', 'A461', 'A083', 'A082', 'A083',\n",
    "    'B341', 'A901', 'A082', 'A461', 'B219', 'A083', 'B818', 'B821','A092', 'B341', 'A461', 'A092', 'A083', 'B821', 'A092'\n",
    "    ]\n",
    "\n",
    "customers = set(id) \n",
    "\n",
    "count = len(customers)\n",
    "\n",
    "print(\"Jumlah customer_id yang unik:\", count)"
   ]
  },
  {
   "cell_type": "markdown",
   "metadata": {},
   "source": [
    "## TASK2"
   ]
  },
  {
   "cell_type": "code",
   "execution_count": null,
   "metadata": {},
   "outputs": [],
   "source": [
    "\n",
    "\n",
    "s = [1, 4, 9, 16, 25, 36, 49, 64, 81, 100]\n",
    "\n",
    "a = s[3]\n",
    "print(a)\n",
    "#16\n",
    "\n",
    "b = s[5:9]\n",
    "print(b)\n",
    "#[36, 49, 64, 81]\n",
    "\n",
    "c = s[::-1]\n",
    "print(c)\n",
    "#[100, 81, 64, 49, 36, 25, 16, 9, 4, 1]\n"
   ]
  },
  {
   "cell_type": "markdown",
   "metadata": {},
   "source": [
    "## TASK 3"
   ]
  },
  {
   "cell_type": "code",
   "execution_count": null,
   "metadata": {},
   "outputs": [],
   "source": [
    "\n",
    "provinsi = {\n",
    "    'Nanggroe Aceh Darussalam': 'Aceh',\n",
    "    'Sumatera Selatan': 'Palembang',\n",
    "    'Kalimantan Barat': 'Pontianak',\n",
    "    'Jawa Timur': 'Madiun',\n",
    "    'Sulawesi Selatan': 'Makassar',\n",
    "    'Maluku': 'Ambon'\n",
    "}\n",
    "\n",
    "provinsi_list = list(provinsi.keys())\n",
    "print(provinsi_list)  \n",
    "\n",
    "\n",
    "provinsi['Jawa Timur'] = 'Surabaya'\n",
    "print(provinsi)"
   ]
  }
 ],
 "metadata": {
  "language_info": {
   "name": "python"
  }
 },
 "nbformat": 4,
 "nbformat_minor": 2
}
